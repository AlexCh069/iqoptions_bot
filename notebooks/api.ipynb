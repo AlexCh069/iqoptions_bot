{
 "cells": [
  {
   "cell_type": "markdown",
   "id": "b7549e46",
   "metadata": {},
   "source": [
    "# Conexion a la api y extraccion de datos"
   ]
  },
  {
   "cell_type": "code",
   "execution_count": 2,
   "id": "c548b0c4",
   "metadata": {},
   "outputs": [
    {
     "name": "stdout",
     "output_type": "stream",
     "text": [
      "Conexión exitosa\n",
      "Balance actual: 9917.4\n"
     ]
    }
   ],
   "source": [
    "from iqoptionapi.stable_api import IQ_Option\n",
    "import logging\n",
    "\n",
    "# Configurar logging\n",
    "logging.basicConfig(level=logging.INFO)\n",
    "\n",
    "# Autenticación\n",
    "API = IQ_Option(\"alex.ch.o573@gmail.com\", \"dracarys069\")\n",
    "API.connect()\n",
    "\n",
    "if API.check_connect():\n",
    "    print(\"Conexión exitosa\")\n",
    "    balance = API.get_balance()\n",
    "    print(f\"Balance actual: {balance}\")\n",
    "else:\n",
    "    print(\"Error de conexión\")"
   ]
  },
  {
   "cell_type": "code",
   "execution_count": 10,
   "id": "a55aebe7",
   "metadata": {},
   "outputs": [
    {
     "name": "stdout",
     "output_type": "stream",
     "text": [
      "Últimas 100 velas de EURUSD: {'id': 2797094, 'from': 1745613060, 'at': 1745613072000000000, 'to': 1745613120, 'open': 1.135825, 'close': 1.135855, 'min': 1.135825, 'max': 1.135855, 'volume': 18}\n"
     ]
    },
    {
     "data": {
      "text/plain": [
       "defaultdict(dict,\n",
       "            {1745613060: {'active_id': 1,\n",
       "              'size': 60,\n",
       "              'at': 1745613075000000000,\n",
       "              'from': 1745613060,\n",
       "              'to': 1745613120,\n",
       "              'min_at': 1745613060,\n",
       "              'max_at': 1745613071,\n",
       "              'id': 2797094,\n",
       "              'open': 1.135825,\n",
       "              'close': 1.135845,\n",
       "              'min': 1.135825,\n",
       "              'max': 1.135855,\n",
       "              'ask': 1.13586,\n",
       "              'bid': 1.13583,\n",
       "              'volume': 36,\n",
       "              'phase': 'T'}})"
      ]
     },
     "execution_count": 10,
     "metadata": {},
     "output_type": "execute_result"
    }
   ],
   "source": [
    "# Obtener velas históricas\n",
    "asset = \"EURUSD\"\n",
    "timeframe = 60  # 1 minuto\n",
    "num_velas = 100\n",
    "timestamp_actual = API.get_server_timestamp()\n",
    "\n",
    "velas = API.get_candles(asset, timeframe, num_velas, timestamp_actual)\n",
    "print(f\"Últimas {num_velas} velas de {asset}: {velas[-1]}\")\n",
    "\n",
    "\n",
    "# Datos en tiempo real\n",
    "API.start_candles_stream(asset, timeframe, 1)\n",
    "API.get_realtime_candles(asset, timeframe)"
   ]
  },
  {
   "cell_type": "code",
   "execution_count": 11,
   "id": "e27a5df2",
   "metadata": {},
   "outputs": [
    {
     "name": "stdout",
     "output_type": "stream",
     "text": [
      "Error al colocar orden\n"
     ]
    }
   ],
   "source": [
    "# Parámetros de la operación\n",
    "monto = 10       # USD\n",
    "activo = \"EURUSD\"\n",
    "direccion = \"call\"  # call/put\n",
    "expiracion = 1     # 1 minuto (modo turbo)\n",
    "\n",
    "# Ejecutar orden\n",
    "status, order_id = API.buy(monto, activo, direccion, expiracion)\n",
    "\n",
    "if status:\n",
    "    print(f\"Orden colocada - ID: {order_id}\")\n",
    "    # Verificar resultado\n",
    "    resultado = API.check_win_v3(order_id)\n",
    "    print(f\"Resultado: {resultado}\")\n",
    "else:\n",
    "    print(\"Error al colocar orden\")"
   ]
  },
  {
   "cell_type": "code",
   "execution_count": 12,
   "id": "e2256a87",
   "metadata": {},
   "outputs": [
    {
     "name": "stdout",
     "output_type": "stream",
     "text": [
      "EURUSD abierto: False\n"
     ]
    },
    {
     "data": {
      "text/plain": [
       "{'request_id': '', 'name': 'sold-options', 'msg': {}, 'status': 4000}"
      ]
     },
     "execution_count": 12,
     "metadata": {},
     "output_type": "execute_result"
    }
   ],
   "source": [
    "# Obtener todos los activos disponibles\n",
    "activos = API.get_all_ACTIVES_OPCODE()\n",
    "\n",
    "# Verificar horario de trading\n",
    "horarios = API.get_all_open_time()\n",
    "print(f\"EURUSD abierto: {horarios['turbo']['EURUSD']['open']}\")\n",
    "\n",
    "# Cerrar operaciones activas\n",
    "API.sell_option(order_id)"
   ]
  },
  {
   "cell_type": "markdown",
   "id": "3246cb99",
   "metadata": {},
   "source": [
    "### REVISAR COMO CAMBIAR A MODO DE OPERACION CON CUENTA DEMO Y A EXTRAER INDICADORES TECNICOS "
   ]
  },
  {
   "cell_type": "code",
   "execution_count": null,
   "id": "f7f268c3",
   "metadata": {},
   "outputs": [],
   "source": []
  }
 ],
 "metadata": {
  "kernelspec": {
   "display_name": "iqoptions_env",
   "language": "python",
   "name": "python3"
  },
  "language_info": {
   "codemirror_mode": {
    "name": "ipython",
    "version": 3
   },
   "file_extension": ".py",
   "mimetype": "text/x-python",
   "name": "python",
   "nbconvert_exporter": "python",
   "pygments_lexer": "ipython3",
   "version": "3.12.9"
  }
 },
 "nbformat": 4,
 "nbformat_minor": 5
}
