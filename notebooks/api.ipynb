{
 "cells": [
  {
   "cell_type": "markdown",
   "id": "b7549e46",
   "metadata": {},
   "source": [
    "# Conexion a la api y extraccion de datos"
   ]
  },
  {
   "cell_type": "code",
   "execution_count": null,
   "id": "c548b0c4",
   "metadata": {},
   "outputs": [
    {
     "name": "stdout",
     "output_type": "stream",
     "text": [
      "Conexión exitosa\n",
      "Balance actual: 9917.4\n"
     ]
    },
    {
     "name": "stderr",
     "output_type": "stream",
     "text": [
      "ERROR:iqoptionapi.ws.client:Connection is already closed.\n"
     ]
    }
   ],
   "source": [
    "from iqoptionapi.stable_api import IQ_Option\n",
    "import logging\n",
    "\n",
    "# Configurar logging\n",
    "logging.basicConfig(level=logging.INFO)\n",
    "\n",
    "# Autenticación\n",
    "API = IQ_Option(\"alex.ch.o573@gmail.com\", \"dracarys069\")\n",
    "API.connect()\n",
    "\n",
    "if API.check_connect():\n",
    "    print(\"Conexión exitosa\")\n",
    "    balance = API.get_balance()\n",
    "    print(f\"Balance actual: {balance}\")\n",
    "else:\n",
    "    print(\"Error de conexión\")"
   ]
  },
  {
   "cell_type": "code",
   "execution_count": 2,
   "id": "c0ca5bf6",
   "metadata": {},
   "outputs": [],
   "source": [
    "from iqoptionapi.stable_api import IQ_Option\n",
    "import time\n",
    "\n",
    "goal = \"EURUSD\"\n",
    "end_from_time = time.time()\n",
    "ANS = []\n",
    "\n",
    "for i in range(7):  # Esto obtendría aproximadamente 70,000 velas (70 x 1000)\n",
    "    data = API.get_candles(goal, 30, 1000, end_from_time)\n",
    "    ANS = data + ANS\n",
    "    end_from_time = int(data[0][\"from\"]) - 1  # Ajusta el tiempo para la siguiente solicitud"
   ]
  },
  {
   "cell_type": "code",
   "execution_count": 5,
   "id": "cd88b944",
   "metadata": {},
   "outputs": [
    {
     "data": {
      "text/plain": [
       "{'id': 5592449,\n",
       " 'from': 1745560950,\n",
       " 'at': 1745560980000000000,\n",
       " 'to': 1745560980,\n",
       " 'open': 1.13296,\n",
       " 'close': 1.133005,\n",
       " 'min': 1.1329,\n",
       " 'max': 1.13303,\n",
       " 'volume': 188}"
      ]
     },
     "execution_count": 5,
     "metadata": {},
     "output_type": "execute_result"
    }
   ],
   "source": [
    "ANS[1]"
   ]
  },
  {
   "cell_type": "code",
   "execution_count": null,
   "id": "6352425f",
   "metadata": {},
   "outputs": [],
   "source": [
    "import pandas as pd \n",
    "\n",
    "data = pd.DataFrame(ANS)\n",
    "\n",
    "# Conversión\n",
    "data['from_dt'] = pd.to_datetime(data['from'], unit='s')\n",
    "data['to_dt'] = pd.to_datetime(data['to'], unit='s')\n",
    "data['at_dt'] = pd.to_datetime(data['at'], unit='ns')\n",
    "\n",
    "# Si deseas reemplazar las columnas originales:\n",
    "data['from'] = pd.to_datetime(data['from'], unit='s')\n",
    "data['to'] = pd.to_datetime(data['to'], unit='s')\n",
    "data['at'] = pd.to_datetime(data['at'], unit='ns')\n"
   ]
  },
  {
   "cell_type": "code",
   "execution_count": 8,
   "id": "d36ed886",
   "metadata": {},
   "outputs": [
    {
     "data": {
      "text/html": [
       "<div>\n",
       "<style scoped>\n",
       "    .dataframe tbody tr th:only-of-type {\n",
       "        vertical-align: middle;\n",
       "    }\n",
       "\n",
       "    .dataframe tbody tr th {\n",
       "        vertical-align: top;\n",
       "    }\n",
       "\n",
       "    .dataframe thead th {\n",
       "        text-align: right;\n",
       "    }\n",
       "</style>\n",
       "<table border=\"1\" class=\"dataframe\">\n",
       "  <thead>\n",
       "    <tr style=\"text-align: right;\">\n",
       "      <th></th>\n",
       "      <th>id</th>\n",
       "      <th>from</th>\n",
       "      <th>at</th>\n",
       "      <th>to</th>\n",
       "      <th>open</th>\n",
       "      <th>close</th>\n",
       "      <th>min</th>\n",
       "      <th>max</th>\n",
       "      <th>volume</th>\n",
       "      <th>from_dt</th>\n",
       "      <th>to_dt</th>\n",
       "      <th>at_dt</th>\n",
       "    </tr>\n",
       "  </thead>\n",
       "  <tbody>\n",
       "    <tr>\n",
       "      <th>0</th>\n",
       "      <td>5592448</td>\n",
       "      <td>1745560920</td>\n",
       "      <td>1745560950000000000</td>\n",
       "      <td>1745560950</td>\n",
       "      <td>1.133110</td>\n",
       "      <td>1.132965</td>\n",
       "      <td>1.132955</td>\n",
       "      <td>1.133165</td>\n",
       "      <td>251</td>\n",
       "      <td>2025-04-25 06:02:00</td>\n",
       "      <td>2025-04-25 06:02:30</td>\n",
       "      <td>2025-04-25 06:02:30</td>\n",
       "    </tr>\n",
       "    <tr>\n",
       "      <th>1</th>\n",
       "      <td>5592449</td>\n",
       "      <td>1745560950</td>\n",
       "      <td>1745560980000000000</td>\n",
       "      <td>1745560980</td>\n",
       "      <td>1.132960</td>\n",
       "      <td>1.133005</td>\n",
       "      <td>1.132900</td>\n",
       "      <td>1.133030</td>\n",
       "      <td>188</td>\n",
       "      <td>2025-04-25 06:02:30</td>\n",
       "      <td>2025-04-25 06:03:00</td>\n",
       "      <td>2025-04-25 06:03:00</td>\n",
       "    </tr>\n",
       "    <tr>\n",
       "      <th>2</th>\n",
       "      <td>5592450</td>\n",
       "      <td>1745560980</td>\n",
       "      <td>1745561010000000000</td>\n",
       "      <td>1745561010</td>\n",
       "      <td>1.133000</td>\n",
       "      <td>1.133070</td>\n",
       "      <td>1.132935</td>\n",
       "      <td>1.133110</td>\n",
       "      <td>155</td>\n",
       "      <td>2025-04-25 06:03:00</td>\n",
       "      <td>2025-04-25 06:03:30</td>\n",
       "      <td>2025-04-25 06:03:30</td>\n",
       "    </tr>\n",
       "    <tr>\n",
       "      <th>3</th>\n",
       "      <td>5592451</td>\n",
       "      <td>1745561010</td>\n",
       "      <td>1745561040000000000</td>\n",
       "      <td>1745561040</td>\n",
       "      <td>1.133075</td>\n",
       "      <td>1.132905</td>\n",
       "      <td>1.132895</td>\n",
       "      <td>1.133085</td>\n",
       "      <td>98</td>\n",
       "      <td>2025-04-25 06:03:30</td>\n",
       "      <td>2025-04-25 06:04:00</td>\n",
       "      <td>2025-04-25 06:04:00</td>\n",
       "    </tr>\n",
       "    <tr>\n",
       "      <th>4</th>\n",
       "      <td>5592452</td>\n",
       "      <td>1745561040</td>\n",
       "      <td>1745561070000000000</td>\n",
       "      <td>1745561070</td>\n",
       "      <td>1.132900</td>\n",
       "      <td>1.132810</td>\n",
       "      <td>1.132705</td>\n",
       "      <td>1.132940</td>\n",
       "      <td>238</td>\n",
       "      <td>2025-04-25 06:04:00</td>\n",
       "      <td>2025-04-25 06:04:30</td>\n",
       "      <td>2025-04-25 06:04:30</td>\n",
       "    </tr>\n",
       "  </tbody>\n",
       "</table>\n",
       "</div>"
      ],
      "text/plain": [
       "        id        from                   at          to      open     close  \\\n",
       "0  5592448  1745560920  1745560950000000000  1745560950  1.133110  1.132965   \n",
       "1  5592449  1745560950  1745560980000000000  1745560980  1.132960  1.133005   \n",
       "2  5592450  1745560980  1745561010000000000  1745561010  1.133000  1.133070   \n",
       "3  5592451  1745561010  1745561040000000000  1745561040  1.133075  1.132905   \n",
       "4  5592452  1745561040  1745561070000000000  1745561070  1.132900  1.132810   \n",
       "\n",
       "        min       max  volume             from_dt               to_dt  \\\n",
       "0  1.132955  1.133165     251 2025-04-25 06:02:00 2025-04-25 06:02:30   \n",
       "1  1.132900  1.133030     188 2025-04-25 06:02:30 2025-04-25 06:03:00   \n",
       "2  1.132935  1.133110     155 2025-04-25 06:03:00 2025-04-25 06:03:30   \n",
       "3  1.132895  1.133085      98 2025-04-25 06:03:30 2025-04-25 06:04:00   \n",
       "4  1.132705  1.132940     238 2025-04-25 06:04:00 2025-04-25 06:04:30   \n",
       "\n",
       "                at_dt  \n",
       "0 2025-04-25 06:02:30  \n",
       "1 2025-04-25 06:03:00  \n",
       "2 2025-04-25 06:03:30  \n",
       "3 2025-04-25 06:04:00  \n",
       "4 2025-04-25 06:04:30  "
      ]
     },
     "execution_count": 8,
     "metadata": {},
     "output_type": "execute_result"
    }
   ],
   "source": [
    "df.head(5)"
   ]
  },
  {
   "cell_type": "code",
   "execution_count": 2,
   "id": "a55aebe7",
   "metadata": {},
   "outputs": [
    {
     "name": "stdout",
     "output_type": "stream",
     "text": [
      "Últimas 100 velas de EURUSD: {'id': 2798397, 'from': 1745864100, 'at': 1745864136003782754, 'to': 1745864160, 'open': 1.14055, 'close': 1.14048, 'min': 1.140395, 'max': 1.14055, 'volume': 149}\n"
     ]
    },
    {
     "data": {
      "text/plain": [
       "defaultdict(dict,\n",
       "            {1745864100: {'active_id': 1,\n",
       "              'size': 60,\n",
       "              'at': 1745864140000000000,\n",
       "              'from': 1745864100,\n",
       "              'to': 1745864160,\n",
       "              'min_at': 1745864122,\n",
       "              'max_at': 1745864100,\n",
       "              'id': 2798397,\n",
       "              'open': 1.14055,\n",
       "              'close': 1.140475,\n",
       "              'min': 1.140395,\n",
       "              'max': 1.14055,\n",
       "              'ask': 1.14048,\n",
       "              'bid': 1.14047,\n",
       "              'volume': 167,\n",
       "              'phase': 'T'}})"
      ]
     },
     "execution_count": 2,
     "metadata": {},
     "output_type": "execute_result"
    }
   ],
   "source": [
    "# Obtener velas históricas\n",
    "asset = \"EURUSD\"\n",
    "timeframe = 60  # 1 minuto\n",
    "num_velas = 100\n",
    "timestamp_actual = API.get_server_timestamp()\n",
    "\n",
    "velas = API.get_candles(asset, timeframe, num_velas, timestamp_actual)\n",
    "print(f\"Últimas {num_velas} velas de {asset}: {velas[-1]}\")\n",
    "\n",
    "\n",
    "# Datos en tiempo real\n",
    "API.start_candles_stream(asset, timeframe, 1)\n",
    "API.get_realtime_candles(asset, timeframe)"
   ]
  },
  {
   "cell_type": "code",
   "execution_count": null,
   "id": "fcbead9b",
   "metadata": {},
   "outputs": [],
   "source": []
  },
  {
   "cell_type": "code",
   "execution_count": 11,
   "id": "e27a5df2",
   "metadata": {},
   "outputs": [
    {
     "name": "stdout",
     "output_type": "stream",
     "text": [
      "Error al colocar orden\n"
     ]
    }
   ],
   "source": [
    "# Parámetros de la operación\n",
    "monto = 10       # USD\n",
    "activo = \"EURUSD\"\n",
    "direccion = \"call\"  # call/put\n",
    "expiracion = 1     # 1 minuto (modo turbo)\n",
    "\n",
    "# Ejecutar orden\n",
    "status, order_id = API.buy(monto, activo, direccion, expiracion)\n",
    "\n",
    "if status:\n",
    "    print(f\"Orden colocada - ID: {order_id}\")\n",
    "    # Verificar resultado\n",
    "    resultado = API.check_win_v3(order_id)\n",
    "    print(f\"Resultado: {resultado}\")\n",
    "else:\n",
    "    print(\"Error al colocar orden\")"
   ]
  },
  {
   "cell_type": "code",
   "execution_count": 12,
   "id": "e2256a87",
   "metadata": {},
   "outputs": [
    {
     "name": "stdout",
     "output_type": "stream",
     "text": [
      "EURUSD abierto: False\n"
     ]
    },
    {
     "data": {
      "text/plain": [
       "{'request_id': '', 'name': 'sold-options', 'msg': {}, 'status': 4000}"
      ]
     },
     "execution_count": 12,
     "metadata": {},
     "output_type": "execute_result"
    }
   ],
   "source": [
    "# Obtener todos los activos disponibles\n",
    "activos = API.get_all_ACTIVES_OPCODE()\n",
    "\n",
    "# Verificar horario de trading\n",
    "horarios = API.get_all_open_time()\n",
    "print(f\"EURUSD abierto: {horarios['turbo']['EURUSD']['open']}\")\n",
    "\n",
    "# Cerrar operaciones activas\n",
    "API.sell_option(order_id)"
   ]
  },
  {
   "cell_type": "markdown",
   "id": "3246cb99",
   "metadata": {},
   "source": [
    "### REVISAR COMO CAMBIAR A MODO DE OPERACION CON CUENTA DEMO Y A EXTRAER INDICADORES TECNICOS "
   ]
  },
  {
   "cell_type": "code",
   "execution_count": null,
   "id": "f7f268c3",
   "metadata": {},
   "outputs": [],
   "source": [
    "goal = \"EURUSD\"             #   Mercado\n",
    "end_from_time = time.time() #   Ultima marca de tiempo\n",
    "ANS = []\n",
    "\n",
    "for i in range(range_days):     # range_days : Cantidad de dias de los que se extraera la data\n",
    "    data = self.API.get_candles(goal, 60, 1000, end_from_time) # Extraccion de las anteriores 1000 velas desde la marca de tiempo\n",
    "    ANS = data + ANS\n",
    "    end_from_time = int(data[0][\"from\"]) - 1                    # Actualizacion de la nueva marca de tiempo\n",
    "\n",
    "data = pd.DataFrame(ANS)\n",
    "data.drop(['id','at'], axis=1, inplace=True)\n",
    "\n",
    "return data"
   ]
  },
  {
   "cell_type": "code",
   "execution_count": 36,
   "id": "45089a00",
   "metadata": {},
   "outputs": [],
   "source": [
    "from iqoptionapi.stable_api import IQ_Option\n",
    "\n",
    "gmail = \"alex.ch.o573@gmail.com\", \n",
    "password = \"dracarys069\"\n",
    "\n",
    "# Conexión a la cuenta\n",
    "def connect_account(email, password, account_type=\"PRACTICE\"):\n",
    "    API = IQ_Option(email, password)\n",
    "    API.connect()  # Conexión básica\n",
    "    \n",
    "    if account_type.upper() == \"REAL\":\n",
    "        API.change_balance(\"REAL\")  # Cambiar a cuenta real\n",
    "    else:\n",
    "        API.change_balance(\"PRACTICE\")  # Modo demo (predeterminado)\n",
    "    \n",
    "    return API\n",
    "\n",
    "# Uso:\n",
    "api = connect_account(gmail, password, account_type=\"PRACTICE\")"
   ]
  },
  {
   "cell_type": "code",
   "execution_count": 37,
   "id": "b019f31f",
   "metadata": {},
   "outputs": [
    {
     "name": "stdout",
     "output_type": "stream",
     "text": [
      "Modo actual: 9913.1\n"
     ]
    }
   ],
   "source": [
    "# Obtener balance y tipo de cuenta\n",
    "balance = api.get_balance()\n",
    "account_type = \"REAL\" if balance > 1000000 else \"PRACTICE\"\n",
    "print(f\"Modo actual: {balance}\")"
   ]
  }
 ],
 "metadata": {
  "kernelspec": {
   "display_name": "iqoptions_env",
   "language": "python",
   "name": "python3"
  },
  "language_info": {
   "codemirror_mode": {
    "name": "ipython",
    "version": 3
   },
   "file_extension": ".py",
   "mimetype": "text/x-python",
   "name": "python",
   "nbconvert_exporter": "python",
   "pygments_lexer": "ipython3",
   "version": "3.12.2"
  }
 },
 "nbformat": 4,
 "nbformat_minor": 5
}
